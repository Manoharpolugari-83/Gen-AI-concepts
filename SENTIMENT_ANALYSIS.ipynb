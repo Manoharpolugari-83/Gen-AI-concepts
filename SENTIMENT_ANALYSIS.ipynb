{
  "nbformat": 4,
  "nbformat_minor": 0,
  "metadata": {
    "colab": {
      "private_outputs": true,
      "provenance": [],
      "gpuType": "T4"
    },
    "kernelspec": {
      "name": "python3",
      "display_name": "Python 3"
    },
    "language_info": {
      "name": "python"
    },
    "accelerator": "GPU"
  },
  "cells": [
    {
      "cell_type": "markdown",
      "source": [
        "#Installation"
      ],
      "metadata": {
        "id": "3lbIwQcXc7sC"
      }
    },
    {
      "cell_type": "code",
      "execution_count": null,
      "metadata": {
        "id": "Pye75PDYcy9B"
      },
      "outputs": [],
      "source": [
        "!nvidia-smi"
      ]
    },
    {
      "cell_type": "code",
      "source": [
        "!pip install transformers\n"
      ],
      "metadata": {
        "id": "l3nqRbEPdC4u"
      },
      "execution_count": null,
      "outputs": []
    },
    {
      "cell_type": "markdown",
      "source": [
        "#Sentiment Analysis"
      ],
      "metadata": {
        "id": "jsAfMu_5dJrV"
      }
    },
    {
      "cell_type": "code",
      "source": [
        "from transformers import pipeline\n",
        "\n",
        "classifier = pipeline(\"sentiment-analysis\")\n",
        "result = classifier(\"I don't Like it\")\n",
        "print(result)\n"
      ],
      "metadata": {
        "id": "PeYh9HMfdHZw"
      },
      "execution_count": null,
      "outputs": []
    },
    {
      "cell_type": "code",
      "source": [
        "pipeline(task = \"sentiment-analysis\")(\"The movie is only Nani and his acting. So many flawless , usual Telugu cinema masala without logic.In the dark world all psycho meets at one place almost 100 people. It means 200 murder same pattern happened in India, which really will be a sensational but, nothing as seen except Nani takes step to trace that. Totally violence and just tried to push and force elevate the scene by Director. Nani is Good but not a strong script...\")"
      ],
      "metadata": {
        "id": "40R-33gUdQ-9"
      },
      "execution_count": null,
      "outputs": []
    },
    {
      "cell_type": "code",
      "source": [
        "pipeline(task = \"sentiment-analysis\")\\\n",
        "                                      (\"Everyday lots of LLMs papers are published about LLMs Evlauation. \\\n",
        "                                      Lots of them Looks very Promising. \\\n",
        "                                      I am not sure if we CAN actually Evaluate LLMs. \\\n",
        "                                      There is still lots to do.\\\n",
        "                                      Don't you think?\")"
      ],
      "metadata": {
        "id": "V4NkmVUKdTmt"
      },
      "execution_count": null,
      "outputs": []
    },
    {
      "cell_type": "code",
      "source": [
        "classifier = pipeline(task = \"sentiment-analysis\")\n",
        "task_list = [\"l love movie\", \\\n",
        "            \"Waste movie pls don't go with family waste of money and full voilence.\", \\\n",
        "            \"Amazing acting and screenplay nani killed it 🔥.\",\\\n",
        "            \"Total waste movie 1.5 is best\"]\n",
        "classifier(task_list)"
      ],
      "metadata": {
        "id": "cLroo5H0dWjr"
      },
      "execution_count": null,
      "outputs": []
    },
    {
      "cell_type": "code",
      "source": [
        "classifier = pipeline(task = \"sentiment-analysis\", model = \"SamLowe/roberta-base-go_emotions\")\n",
        "\n",
        "task_list = [\"Intense and Ruthless Survival Thriller.\", \\\n",
        "            \"Block buster hit3 movie.\", \\\n",
        "            \"Total waste movie 1.5 is best\",\\\n",
        "            \"Amazing acting and screenplay nani killed it 🔥\"]\n",
        "classifier(task_list)"
      ],
      "metadata": {
        "id": "y33Ca5NvdYC6"
      },
      "execution_count": null,
      "outputs": []
    }
  ]
}